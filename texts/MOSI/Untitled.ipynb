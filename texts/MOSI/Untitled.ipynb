{
 "cells": [
  {
   "cell_type": "code",
   "execution_count": 1,
   "id": "5c45b07a-c034-4f3b-895c-ab027506b17a",
   "metadata": {},
   "outputs": [],
   "source": [
    "csv_filename = './new_MOSI-label-v4.csv'"
   ]
  },
  {
   "cell_type": "code",
   "execution_count": 2,
   "id": "d07c6196-ec7b-453e-8520-77368e3f0a4c",
   "metadata": {},
   "outputs": [],
   "source": [
    "import pandas as pd"
   ]
  },
  {
   "cell_type": "code",
   "execution_count": 3,
   "id": "4048dfc2-6846-43cd-8336-6d1141c9b2a5",
   "metadata": {},
   "outputs": [],
   "source": [
    "df = pd.read_csv(csv_filename)"
   ]
  },
  {
   "cell_type": "code",
   "execution_count": 4,
   "id": "716f6945-2753-4ce4-ba88-b1ee851a9e0c",
   "metadata": {},
   "outputs": [],
   "source": [
    "score_labels = df['score_label']"
   ]
  },
  {
   "cell_type": "code",
   "execution_count": 5,
   "id": "35a0f84b-9f23-44b5-aeb9-79f593f1d066",
   "metadata": {},
   "outputs": [
    {
     "data": {
      "text/plain": [
       "0      -0.5\n",
       "1      -1.2\n",
       "2       1.8\n",
       "3       2.2\n",
       "4       2.4\n",
       "       ... \n",
       "2194   -2.0\n",
       "2195    0.6\n",
       "2196    1.2\n",
       "2197   -0.4\n",
       "2198    0.8\n",
       "Name: score_label, Length: 2199, dtype: float64"
      ]
     },
     "execution_count": 5,
     "metadata": {},
     "output_type": "execute_result"
    }
   ],
   "source": [
    "score_labels"
   ]
  },
  {
   "cell_type": "code",
   "execution_count": 6,
   "id": "6be8e8eb-fd35-46f9-a09e-4c9b45a53f09",
   "metadata": {},
   "outputs": [
    {
     "data": {
      "text/plain": [
       "0       neutral\n",
       "1       sadness\n",
       "2           joy\n",
       "3           joy\n",
       "4           joy\n",
       "         ...   \n",
       "2194    sadness\n",
       "2195        joy\n",
       "2196        joy\n",
       "2197      anger\n",
       "2198        joy\n",
       "Name: meld_label, Length: 2199, dtype: object"
      ]
     },
     "execution_count": 6,
     "metadata": {},
     "output_type": "execute_result"
    }
   ],
   "source": [
    "df['meld_label']"
   ]
  },
  {
   "cell_type": "code",
   "execution_count": 7,
   "id": "ca46de8e-5a23-47db-9532-d4ddc86bdf4c",
   "metadata": {},
   "outputs": [
    {
     "data": {
      "text/plain": [
       "0       neu\n",
       "1       sad\n",
       "2       hap\n",
       "3       exc\n",
       "4       hap\n",
       "       ... \n",
       "2194    sad\n",
       "2195    hap\n",
       "2196    hap\n",
       "2197    sad\n",
       "2198    exc\n",
       "Name: iemocap_label, Length: 2199, dtype: object"
      ]
     },
     "execution_count": 7,
     "metadata": {},
     "output_type": "execute_result"
    }
   ],
   "source": [
    "df['iemocap_label']"
   ]
  },
  {
   "cell_type": "code",
   "execution_count": 1,
   "id": "72e13e47-41ed-4a9b-adb0-dc375dbebe35",
   "metadata": {},
   "outputs": [],
   "source": [
    "import pickle as pk"
   ]
  },
  {
   "cell_type": "code",
   "execution_count": 2,
   "id": "5dedf9d5-6dad-4d7d-85ac-cda12f05e7db",
   "metadata": {},
   "outputs": [],
   "source": [
    "f = open('./new_train_align_v4_0424.pkl','rb')"
   ]
  },
  {
   "cell_type": "code",
   "execution_count": 4,
   "id": "bf6f06cb-629b-4b96-8f9d-f832888a75ee",
   "metadata": {},
   "outputs": [],
   "source": [
    "data = pk.load(f)"
   ]
  },
  {
   "cell_type": "code",
   "execution_count": 7,
   "id": "8307a866-e14f-4c4e-9a55-1d50efcfcf19",
   "metadata": {},
   "outputs": [
    {
     "data": {
      "text/plain": [
       "'a lot of sad parts'"
      ]
     },
     "execution_count": 7,
     "metadata": {},
     "output_type": "execute_result"
    }
   ],
   "source": [
    "data[0][0][3]"
   ]
  },
  {
   "cell_type": "code",
   "execution_count": null,
   "id": "85d1274a-c3f6-4c7f-af03-9fd62adf6561",
   "metadata": {},
   "outputs": [],
   "source": []
  }
 ],
 "metadata": {
  "kernelspec": {
   "display_name": "Python 3",
   "language": "python",
   "name": "python3"
  },
  "language_info": {
   "codemirror_mode": {
    "name": "ipython",
    "version": 3
   },
   "file_extension": ".py",
   "mimetype": "text/x-python",
   "name": "python",
   "nbconvert_exporter": "python",
   "pygments_lexer": "ipython3",
   "version": "3.6.12"
  }
 },
 "nbformat": 4,
 "nbformat_minor": 5
}
