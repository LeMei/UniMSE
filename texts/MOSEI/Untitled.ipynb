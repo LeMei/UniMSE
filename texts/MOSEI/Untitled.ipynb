{
 "cells": [
  {
   "cell_type": "code",
   "execution_count": 14,
   "id": "d26ab07f-cacb-41e2-bc78-9e343f0c494d",
   "metadata": {},
   "outputs": [],
   "source": [
    "import pickle"
   ]
  },
  {
   "cell_type": "code",
   "execution_count": 15,
   "id": "d2a0d4d4-4296-4ca6-b934-e7fc1fdd0859",
   "metadata": {},
   "outputs": [],
   "source": [
    "path = './mosei_data_0610.pkl'"
   ]
  },
  {
   "cell_type": "code",
   "execution_count": 20,
   "id": "4978dc28-b58d-4699-9af6-65c56f911680",
   "metadata": {},
   "outputs": [],
   "source": [
    "f = open(path, 'rb')"
   ]
  },
  {
   "cell_type": "code",
   "execution_count": 21,
   "id": "aff39772-d093-4783-8f14-3556a03ddcb5",
   "metadata": {},
   "outputs": [],
   "source": [
    "data = pickle.load(f)"
   ]
  },
  {
   "cell_type": "code",
   "execution_count": 22,
   "id": "25112c30-c6e8-4527-8037-e9947482ef86",
   "metadata": {},
   "outputs": [
    {
     "data": {
      "text/plain": [
       "(4659, 32, 64)"
      ]
     },
     "execution_count": 22,
     "metadata": {},
     "output_type": "execute_result"
    }
   ],
   "source": [
    "data['test']['vision'].shape"
   ]
  },
  {
   "cell_type": "code",
   "execution_count": null,
   "id": "5f861af0-1a94-46db-ac84-47b4e0d6437d",
   "metadata": {},
   "outputs": [],
   "source": []
  },
  {
   "cell_type": "code",
   "execution_count": null,
   "id": "b75d8ae0-9023-4a92-b4a2-4c132894e582",
   "metadata": {},
   "outputs": [],
   "source": []
  }
 ],
 "metadata": {
  "kernelspec": {
   "display_name": "Python 3",
   "language": "python",
   "name": "python3"
  },
  "language_info": {
   "codemirror_mode": {
    "name": "ipython",
    "version": 3
   },
   "file_extension": ".py",
   "mimetype": "text/x-python",
   "name": "python",
   "nbconvert_exporter": "python",
   "pygments_lexer": "ipython3",
   "version": "3.6.12"
  }
 },
 "nbformat": 4,
 "nbformat_minor": 5
}
