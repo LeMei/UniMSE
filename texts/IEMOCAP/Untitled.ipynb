{
 "cells": [
  {
   "cell_type": "code",
   "execution_count": 8,
   "id": "b8607377-632e-4c2f-865d-378e48a9fb81",
   "metadata": {},
   "outputs": [],
   "source": [
    "import pickle"
   ]
  },
  {
   "cell_type": "code",
   "execution_count": 9,
   "id": "274e3a12-3c21-47c7-8988-2b3c9bc9fd73",
   "metadata": {},
   "outputs": [],
   "source": [
    "path = './iemocap_data_0610.pkl'"
   ]
  },
  {
   "cell_type": "code",
   "execution_count": 10,
   "id": "40891a18-3152-436e-8f68-a91d67789efe",
   "metadata": {},
   "outputs": [],
   "source": [
    "f = open(path, 'rb')"
   ]
  },
  {
   "cell_type": "code",
   "execution_count": 11,
   "id": "c23da06b-2c6a-43b3-a00d-6a2e1ea1ce1a",
   "metadata": {},
   "outputs": [],
   "source": [
    "data = pickle.load(f)"
   ]
  },
  {
   "cell_type": "code",
   "execution_count": 12,
   "id": "09b143a7-c0e4-44ba-851e-8f7bc78b152e",
   "metadata": {},
   "outputs": [
    {
     "data": {
      "text/plain": [
       "2"
      ]
     },
     "execution_count": 12,
     "metadata": {},
     "output_type": "execute_result"
    }
   ],
   "source": [
    "len(data)"
   ]
  },
  {
   "cell_type": "code",
   "execution_count": 23,
   "id": "3f627379-b5a7-4863-823b-64fe0547a17e",
   "metadata": {},
   "outputs": [
    {
     "data": {
      "text/plain": [
       "(32, 64)"
      ]
     },
     "execution_count": 23,
     "metadata": {},
     "output_type": "execute_result"
    }
   ],
   "source": [
    "data['video'][0]['Ses01F_impro01_F000'].shape"
   ]
  },
  {
   "cell_type": "code",
   "execution_count": 17,
   "id": "5538c5e1-b408-4324-85c1-e4b5328cf43d",
   "metadata": {},
   "outputs": [
    {
     "ename": "KeyError",
     "evalue": "0",
     "output_type": "error",
     "traceback": [
      "\u001b[0;31m---------------------------------------------------------------------------\u001b[0m",
      "\u001b[0;31mKeyError\u001b[0m                                  Traceback (most recent call last)",
      "\u001b[0;32m<ipython-input-17-80a4aab09c73>\u001b[0m in \u001b[0;36m<module>\u001b[0;34m\u001b[0m\n\u001b[0;32m----> 1\u001b[0;31m \u001b[0mdata\u001b[0m\u001b[0;34m[\u001b[0m\u001b[0;36m0\u001b[0m\u001b[0;34m]\u001b[0m\u001b[0;34m\u001b[0m\u001b[0;34m\u001b[0m\u001b[0m\n\u001b[0m",
      "\u001b[0;31mKeyError\u001b[0m: 0"
     ]
    }
   ],
   "source": [
    "data[0]"
   ]
  },
  {
   "cell_type": "code",
   "execution_count": 24,
   "id": "6fc13180-f08e-4895-ac5f-46d1b3f1683d",
   "metadata": {},
   "outputs": [
    {
     "data": {
      "text/plain": [
       "7532"
      ]
     },
     "execution_count": 24,
     "metadata": {},
     "output_type": "execute_result"
    }
   ],
   "source": [
    "len(data['audio'][0])+len(data['audio'][1]) + len(data['audio'][2])"
   ]
  },
  {
   "cell_type": "code",
   "execution_count": 25,
   "id": "75662f2f-bcde-43f4-8675-d145ee5bc726",
   "metadata": {},
   "outputs": [
    {
     "data": {
      "text/plain": [
       "5354"
      ]
     },
     "execution_count": 25,
     "metadata": {},
     "output_type": "execute_result"
    }
   ],
   "source": [
    "len(data['audio'][0])"
   ]
  },
  {
   "cell_type": "code",
   "execution_count": 26,
   "id": "bd4aeec6-e5c3-4d40-816a-8ac3bb9da662",
   "metadata": {},
   "outputs": [
    {
     "data": {
      "text/plain": [
       "528"
      ]
     },
     "execution_count": 26,
     "metadata": {},
     "output_type": "execute_result"
    }
   ],
   "source": [
    "len(data['audio'][1])"
   ]
  },
  {
   "cell_type": "code",
   "execution_count": 27,
   "id": "1c0986d2-9fd2-4ad7-a25d-5188fbdf7025",
   "metadata": {},
   "outputs": [
    {
     "data": {
      "text/plain": [
       "1650"
      ]
     },
     "execution_count": 27,
     "metadata": {},
     "output_type": "execute_result"
    }
   ],
   "source": [
    "len(data['audio'][2])"
   ]
  },
  {
   "cell_type": "code",
   "execution_count": 44,
   "id": "064bef05-161a-4b5a-8f66-08187bf288fe",
   "metadata": {},
   "outputs": [],
   "source": [
    "path = './new_dev_por_v4_0610_6c_sep_contexts_v.pkl'"
   ]
  },
  {
   "cell_type": "code",
   "execution_count": 45,
   "id": "70a5d186-ca71-4033-97b1-489a150996ee",
   "metadata": {},
   "outputs": [],
   "source": [
    "f = open(path, 'rb')"
   ]
  },
  {
   "cell_type": "code",
   "execution_count": 46,
   "id": "2e3293d9-6304-4a06-af18-6c98cf07af6a",
   "metadata": {},
   "outputs": [],
   "source": [
    "data = pickle.load(f)"
   ]
  },
  {
   "cell_type": "code",
   "execution_count": 47,
   "id": "0a95183a-2f63-48d0-a548-7fe3f13c7790",
   "metadata": {},
   "outputs": [
    {
     "data": {
      "text/plain": [
       "521"
      ]
     },
     "execution_count": 47,
     "metadata": {},
     "output_type": "execute_result"
    }
   ],
   "source": [
    "len(data)"
   ]
  },
  {
   "cell_type": "code",
   "execution_count": null,
   "id": "7c14dcfb-6334-44b7-b6f3-669006101e7a",
   "metadata": {},
   "outputs": [],
   "source": []
  }
 ],
 "metadata": {
  "kernelspec": {
   "display_name": "Python 3",
   "language": "python",
   "name": "python3"
  },
  "language_info": {
   "codemirror_mode": {
    "name": "ipython",
    "version": 3
   },
   "file_extension": ".py",
   "mimetype": "text/x-python",
   "name": "python",
   "nbconvert_exporter": "python",
   "pygments_lexer": "ipython3",
   "version": "3.6.12"
  }
 },
 "nbformat": 4,
 "nbformat_minor": 5
}
